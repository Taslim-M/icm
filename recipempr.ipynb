{
 "cells": [
  {
   "cell_type": "code",
   "execution_count": 1,
   "id": "fbd7c548",
   "metadata": {},
   "outputs": [],
   "source": [
    "#!/usr/bin/env python3\n",
    "\"\"\"\n",
    "RecipeMPR to ICM Dataset Converter\n",
    "\n",
    "This script converts the RecipeMPR dataset (500QA.json) to ICM-digestible format.\n",
    "Based on ICM documentation: https://github.com/codelion/icm/tree/main\n",
    "\n",
    "The script handles multiple answer formats and creates ICM examples for each query.\n",
    "\"\"\"\n",
    "\n",
    "import json\n",
    "import os\n",
    "from typing import List, Dict, Any, Union\n",
    "from dataclasses import dataclass, asdict\n",
    "import argparse\n",
    "\n",
    "\n",
    "from icm import ICMSearcher, ICMDataset, ICMExample\n",
    "from icm.consistency import LogicalConsistencyChecker, MathConsistencyRule\n",
    "\n"
   ]
  },
  {
   "cell_type": "code",
   "execution_count": 2,
   "id": "e189b15f",
   "metadata": {},
   "outputs": [],
   "source": [
    "def load_recipe_mpr_dataset(file_path: str) -> List[Dict[str, Any]]:\n",
    "    try:\n",
    "        with open(file_path, 'r', encoding='utf-8') as f:\n",
    "            data = json.load(f)\n",
    "        print(f\"Loaded {len(data)} examples from {file_path}\")\n",
    "        return data\n",
    "    except FileNotFoundError:\n",
    "        print(f\"Error: File {file_path} not found.\")\n",
    "        print(\"Please download the RecipeMPR dataset from: https://github.com/D3Mlab/Recipe-MPR/blob/main/data/500QA.json\")\n",
    "        raise\n",
    "    except json.JSONDecodeError as e:\n",
    "        print(f\"Error parsing JSON file: {e}\")\n",
    "        raise\n",
    "\n",
    "\n",
    "def format_icm_input(question: str, answer: str, answer_choices: List[str] = None) -> str:\n",
    "    \"\"\"\n",
    "    Format the input text according to ICM's expected format.\n",
    "    \n",
    "    ICM expects format like:\n",
    "    \"Question: <question>\\nClaim: <claim>\\nI think this Claim is [True/False]\"\n",
    "    \n",
    "    Args:\n",
    "        question: The recipe question\n",
    "        answer: The proposed answer/claim\n",
    "        answer_choices: List of possible answer choices (if multiple choice)\n",
    "        \n",
    "    Returns:\n",
    "        Formatted input string for ICM\n",
    "    \"\"\"\n",
    "    # For recipe questions, we'll treat each answer as a claim to be verified\n",
    "    if answer_choices and len(answer_choices) > 1:\n",
    "        # Multiple choice format\n",
    "        choices_text = \"\\n\".join([f\"  {chr(65+i)}) {choice}\" for i, choice in enumerate(answer_choices)])\n",
    "        formatted_input = f\"Question: {question}\\nChoices:\\n{choices_text}\\nClaim: The correct answer is {answer}\\nI think this Claim is [True/False]\"\n",
    "    else:\n",
    "        # Direct answer format\n",
    "        formatted_input = f\"Query: {question}\\nClaim: I think the dish you would prefer is {answer}\\nI think this Claim is [True/False]\"\n",
    "    \n",
    "    return formatted_input\n",
    "\n",
    "\n",
    "def extract_recipe_context(recipe_data: Dict[str, Any]) -> str:\n",
    "    \"\"\"\n",
    "    Extract recipe context from the recipe data.\n",
    "    \n",
    "    Args:\n",
    "        recipe_data: Recipe information\n",
    "        \n",
    "    Returns:\n",
    "        Formatted recipe context string\n",
    "    \"\"\"\n",
    "    context_parts = []\n",
    "    \n",
    "    # Add recipe title if available\n",
    "    if 'title' in recipe_data:\n",
    "        context_parts.append(f\"Recipe: {recipe_data['title']}\")\n",
    "    \n",
    "    # Add ingredients if available\n",
    "    if 'ingredients' in recipe_data and recipe_data['ingredients']:\n",
    "        ingredients_text = \", \".join(recipe_data['ingredients'])\n",
    "        context_parts.append(f\"Ingredients: {ingredients_text}\")\n",
    "    \n",
    "    # Add instructions if available\n",
    "    if 'instructions' in recipe_data and recipe_data['instructions']:\n",
    "        if isinstance(recipe_data['instructions'], list):\n",
    "            instructions_text = \" \".join(recipe_data['instructions'])\n",
    "        else:\n",
    "            instructions_text = str(recipe_data['instructions'])\n",
    "        context_parts.append(f\"Instructions: {instructions_text}\")\n",
    "    \n",
    "    return \" | \".join(context_parts)\n",
    "\n",
    "\n",
    "def convert_recipe_mpr_to_icm(recipe_mpr_data: List[Dict[str, Any]]) -> ICMDataset:\n",
    "    \"\"\"\n",
    "    Convert RecipeMPR dataset to ICM format.\n",
    "    \n",
    "    Args:\n",
    "        recipe_mpr_data: List of RecipeMPR examples\n",
    "        \n",
    "    Returns:\n",
    "        ICMDataset object ready for ICM processing\n",
    "    \"\"\"\n",
    "    icm_examples = []\n",
    "    \n",
    "    for idx, example in enumerate(recipe_mpr_data):\n",
    "        try:\n",
    "            # Extract question/query\n",
    "            question = example.get('query', example.get('question', ''))\n",
    "            if not question:\n",
    "                print(f\"Warning: No question found in example {idx}, skipping...\")\n",
    "                continue\n",
    "            \n",
    "            # Extract options (hash -> dish name mapping)\n",
    "            options = example.get('options', {})\n",
    "            if not options:\n",
    "                print(f\"Warning: No options found in example {idx}, skipping...\")\n",
    "                continue\n",
    "            \n",
    "            # Extract correct answer hash\n",
    "            correct_answer_hash = example.get('answer', '')\n",
    "            if not correct_answer_hash:\n",
    "                print(f\"Warning: No answer found in example {idx}, skipping...\")\n",
    "                continue\n",
    "            \n",
    "            # Extract query type informationR\n",
    "            query_type = example.get('query_type', {})\n",
    "            \n",
    "            # Extract correctness explanation\n",
    "            correctness_explanation = example.get('correctness_explanation', {})\n",
    "            \n",
    "            # Create ICM examples - one for each option (dish)\n",
    "            for option_hash, dish_name in options.items():\n",
    "                # Determine if this option is correct\n",
    "                is_correct = (option_hash == correct_answer_hash)\n",
    "                \n",
    "                # Format the input for ICM\n",
    "                formatted_input = format_icm_input(\n",
    "                    question=question,\n",
    "                    answer=dish_name\n",
    "                )\n",
    "                \n",
    "                # Create metadata\n",
    "                metadata = {\n",
    "                    'gold_label': 'True' if is_correct else 'False',\n",
    "                    'task': 'recipe_preference',\n",
    "                    'original_example_id': idx,\n",
    "                    'option_hash': option_hash,\n",
    "                    'dish_name': dish_name,\n",
    "                    'source': 'RecipeMPR',\n",
    "                    'query_type': query_type\n",
    "                }\n",
    "                \n",
    "                # Add correctness explanation if available\n",
    "                if correctness_explanation:\n",
    "                    metadata['correctness_explanation'] = correctness_explanation\n",
    "                \n",
    "                # Create ICM example\n",
    "                icm_example = ICMExample(\n",
    "                    formatted_input,\n",
    "                    metadata\n",
    "                )\n",
    "                \n",
    "                icm_examples.append(icm_example)\n",
    "                \n",
    "        except Exception as e:\n",
    "            print(f\"Error processing example {idx}: {e}\")\n",
    "            continue\n",
    "    \n",
    "    print(f\"Converted {len(icm_examples)} examples to ICM format\")\n",
    "    return ICMDataset(examples=icm_examples)\n",
    "\n"
   ]
  },
  {
   "cell_type": "code",
   "execution_count": 26,
   "id": "56d3b949",
   "metadata": {},
   "outputs": [
    {
     "name": "stdout",
     "output_type": "stream",
     "text": [
      "Loaded 500 examples from 500QA.json\n"
     ]
    }
   ],
   "source": [
    "recipe_data = load_recipe_mpr_dataset(\"500QA.json\")"
   ]
  },
  {
   "cell_type": "code",
   "execution_count": 27,
   "id": "6b5a12fd",
   "metadata": {},
   "outputs": [],
   "source": [
    "# recipe_data = recipe_data[:2]\n",
    "# print(f\"Limited to {50} examples\")"
   ]
  },
  {
   "cell_type": "code",
   "execution_count": 28,
   "id": "1fdb1b66",
   "metadata": {},
   "outputs": [
    {
     "name": "stdout",
     "output_type": "stream",
     "text": [
      "Converted 2500 examples to ICM format\n"
     ]
    }
   ],
   "source": [
    "icm_dataset = convert_recipe_mpr_to_icm(recipe_data)"
   ]
  },
  {
   "cell_type": "code",
   "execution_count": 29,
   "id": "422e47af",
   "metadata": {},
   "outputs": [
    {
     "data": {
      "text/plain": [
       "ICMExample(input_text='Query: I want to make a warm dish containing oysters\\nClaim: I think the dish you would prefer is Seasoned salted crackers shaped like oysters\\nI think this Claim is [True/False]', metadata={'gold_label': 'False', 'task': 'recipe_preference', 'original_example_id': 0, 'option_hash': '5b9441298f', 'dish_name': 'Seasoned salted crackers shaped like oysters', 'source': 'RecipeMPR', 'query_type': {'Specific': 0, 'Commonsense': 1, 'Negated': 0, 'Analogical': 0, 'Temporal': 0}, 'correctness_explanation': {'warm dish': 'soup', 'oysters': 'oyster'}})"
      ]
     },
     "execution_count": 29,
     "metadata": {},
     "output_type": "execute_result"
    }
   ],
   "source": [
    "icm_dataset[1]"
   ]
  },
  {
   "cell_type": "code",
   "execution_count": 30,
   "id": "9794f3fb",
   "metadata": {},
   "outputs": [
    {
     "data": {
      "application/vnd.jupyter.widget-view+json": {
       "model_id": "6ac45f62e5de4c53b48b64cbdc07c962",
       "version_major": 2,
       "version_minor": 0
      },
      "text/plain": [
       "Loading checkpoint shards:   0%|          | 0/2 [00:00<?, ?it/s]"
      ]
     },
     "metadata": {},
     "output_type": "display_data"
    },
    {
     "name": "stderr",
     "output_type": "stream",
     "text": [
      "ICM Search: 100%|██████████| 1000/1000 [52:09<00:00,  3.13s/it]\n"
     ]
    }
   ],
   "source": [
    "# Custom consistency checker\n",
    "checker = LogicalConsistencyChecker()\n",
    "\n",
    "# Advanced searcher\n",
    "searcher = ICMSearcher(\n",
    "    model_name=\"Qwen/Qwen2.5-3B\",\n",
    "    alpha=50.0,\n",
    "    seed=42\n",
    ")\n",
    "\n",
    "result = searcher.search(icm_dataset)"
   ]
  },
  {
   "cell_type": "code",
   "execution_count": 31,
   "id": "57f9cd76",
   "metadata": {},
   "outputs": [
    {
     "name": "stdout",
     "output_type": "stream",
     "text": [
      "Generated 21 labeled examples\n",
      "Final score: -65.6638\n"
     ]
    }
   ],
   "source": [
    "# Access results\n",
    "print(f\"Generated {len(result.labeled_examples)} labeled examples\")\n",
    "print(f\"Final score: {result.score:.4f}\")"
   ]
  },
  {
   "cell_type": "code",
   "execution_count": 33,
   "id": "c8fd8c23-b24b-4af0-bf30-3f9528e8251d",
   "metadata": {},
   "outputs": [
    {
     "data": {
      "text/plain": [
       "'my_results/recipempr_qwen25-3b_1000_20250904_083223.jsonl'"
      ]
     },
     "execution_count": 33,
     "metadata": {},
     "output_type": "execute_result"
    }
   ],
   "source": [
    "from icm.storage import ICMStorage\n",
    "from icm.exporters import ICMExporter\n",
    "\n",
    "# Save results\n",
    "storage = ICMStorage(\"my_results\")\n",
    "storage.save_result(result, \"recipempr_qwen25-3b_1000\")"
   ]
  },
  {
   "cell_type": "code",
   "execution_count": null,
   "id": "4aecdf3a-81de-4ffc-8920-50542f614495",
   "metadata": {},
   "outputs": [],
   "source": []
  }
 ],
 "metadata": {
  "kernelspec": {
   "display_name": "venv",
   "language": "python",
   "name": "python3"
  },
  "language_info": {
   "codemirror_mode": {
    "name": "ipython",
    "version": 3
   },
   "file_extension": ".py",
   "mimetype": "text/x-python",
   "name": "python",
   "nbconvert_exporter": "python",
   "pygments_lexer": "ipython3",
   "version": "3.11.9"
  }
 },
 "nbformat": 4,
 "nbformat_minor": 5
}
